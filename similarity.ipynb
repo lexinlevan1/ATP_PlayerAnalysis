{
 "cells": [
  {
   "cell_type": "markdown",
   "id": "7a8bd037-0dc6-453a-8455-85a2a27c51c0",
   "metadata": {},
   "source": [
    "https://github.com/JeffSackmann/tennis_atp"
   ]
  },
  {
   "cell_type": "code",
   "execution_count": null,
   "id": "96409b9b-eb39-44ab-83f6-508b2efff82a",
   "metadata": {},
   "outputs": [],
   "source": [
    "import pandas as pd\n",
    "import numpy as np\n",
    "from sklearn.preprocessing import StandardScaler\n",
    "from sklearn.metrics.pairwise import cosine_similarity\n",
    "import matplotlib.pyplot as plt\n",
    "import seaborn as sns"
   ]
  }
 ],
 "metadata": {
  "kernelspec": {
   "display_name": "Python 3 (ipykernel)",
   "language": "python",
   "name": "python3"
  },
  "language_info": {
   "codemirror_mode": {
    "name": "ipython",
    "version": 3
   },
   "file_extension": ".py",
   "mimetype": "text/x-python",
   "name": "python",
   "nbconvert_exporter": "python",
   "pygments_lexer": "ipython3",
   "version": "3.11.5"
  }
 },
 "nbformat": 4,
 "nbformat_minor": 5
}
